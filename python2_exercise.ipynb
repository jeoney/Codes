{
 "cells": [
  {
   "cell_type": "markdown",
   "metadata": {},
   "source": [
    "### List"
   ]
  },
  {
   "cell_type": "code",
   "execution_count": 4,
   "metadata": {},
   "outputs": [
    {
     "name": "stdout",
     "output_type": "stream",
     "text": [
      "[10, 20, 30, 40, 50, [100, 200, 300]]\n",
      "6\n"
     ]
    }
   ],
   "source": [
    "# append는 list맨 뒤에 1개 추가하는 기능\n",
    "data1 = [10,20,30,40,50]\n",
    "data1.append([100,200,300]) # list안에 list 1개 추가\n",
    "#data1.append(100,200,300) # ERROR append() takes exactly one argument (3 given)\n",
    "print(data1)\n",
    "print(len(data1))"
   ]
  },
  {
   "cell_type": "code",
   "execution_count": 8,
   "metadata": {},
   "outputs": [
    {
     "name": "stdout",
     "output_type": "stream",
     "text": [
      "[100, 200, 300, 400, 10, 20, 30]\n",
      "7\n",
      "[100, 200, 300, 400, 10, 20, 30]\n"
     ]
    }
   ],
   "source": [
    "# extend는  +와 동일하다\n",
    "data2 = [100,200,300,400]\n",
    "data3 = [100,200,300,400]\n",
    "data2.extend([10,20,30]) #이렇게 하면 list 뒤에 3개를 추가하게 됨\n",
    "print(data2)\n",
    "print(len(data2))\n",
    "\n",
    "# +와 동일\n",
    "data3 += [10,20,30]\n",
    "print(data3)"
   ]
  },
  {
   "cell_type": "code",
   "execution_count": 14,
   "metadata": {},
   "outputs": [
    {
     "name": "stdout",
     "output_type": "stream",
     "text": [
      "40\n",
      "[10, 20, 30]\n",
      "[10, 20, 30, 100]\n",
      "[10, 20, 30, 100, 1]\n",
      "[20, 30, 100, 1]\n"
     ]
    }
   ],
   "source": [
    "data3 = [10,20,30,40]\n",
    "print(data3.pop())\n",
    "print(data3)\n",
    "\n",
    "#pop()과 append()를 쓰면 stack처럼 쓸 수 있다\n",
    "data3.append(100)\n",
    "print(data3)\n",
    "\n",
    "#pop(0)으로 하면 queue처럼도 쓸수 있다\n",
    "data3.append(1)\n",
    "print(data3)\n",
    "data3.pop(0)\n",
    "print(data3)"
   ]
  },
  {
   "cell_type": "code",
   "execution_count": 19,
   "metadata": {},
   "outputs": [
    {
     "name": "stdout",
     "output_type": "stream",
     "text": [
      "True\n",
      "[0, 0, 0, 0, 0]\n",
      "[0, 0, 0, 0, 0]\n",
      "[0, 0, 0, 99, 0]\n",
      "[0, 0, 0, 99, 0]\n"
     ]
    }
   ],
   "source": [
    "# list 할당\n",
    "data1 = [0,0,0,0,0]\n",
    "data2 = data1 #같은 주소를 가리키게 된다\n",
    "print(data1 is data2)\n",
    "print(data1)\n",
    "print(data2)\n",
    "\n",
    "data2[3] = 99\n",
    "print(data1)\n",
    "print(data2)"
   ]
  },
  {
   "cell_type": "code",
   "execution_count": 24,
   "metadata": {},
   "outputs": [
    {
     "name": "stdout",
     "output_type": "stream",
     "text": [
      "False\n",
      "[0, 0, 0, 0, 0]\n",
      "[0, 0, 0, 0, 0]\n",
      "[0, 0, 0, 99, 0]\n",
      "[0, 0, 0, 0, 0]\n"
     ]
    }
   ],
   "source": [
    "# list 복사\n",
    "data3 = [0,0,0,0,0]\n",
    "data4 = data3.copy() #복사해서 동일한 값을 갖고 있는 서로 다른 list가 된다\n",
    "print(data3 is data4)\n",
    "print(data3)\n",
    "print(data4)\n",
    "\n",
    "data3[3] = 99\n",
    "print(data3)\n",
    "print(data4)"
   ]
  },
  {
   "cell_type": "markdown",
   "metadata": {},
   "source": [
    "### List comprehension"
   ]
  },
  {
   "cell_type": "code",
   "execution_count": 29,
   "metadata": {},
   "outputs": [
    {
     "name": "stdout",
     "output_type": "stream",
     "text": [
      "[0, 1, 2, 3, 4, 5, 6, 7, 8, 9]\n",
      "[0, 1, 2, 3, 4, 5, 6, 7, 8, 9]\n"
     ]
    }
   ],
   "source": [
    "#list를 축약해서 사용하는 예제\n",
    "data1 = []\n",
    "for i in range(10):\n",
    "    data1.append(i)\n",
    "print(data1)\n",
    "\n",
    "#위는 아래로 줄여서 쓸 수 있다\n",
    "data2 = [i for i in range(10)]\n",
    "print(data2)"
   ]
  },
  {
   "cell_type": "code",
   "execution_count": 35,
   "metadata": {},
   "outputs": [
    {
     "name": "stdout",
     "output_type": "stream",
     "text": [
      "[0, 2, 4, 6, 8]\n",
      "[0, 2, 4, 6, 8]\n",
      "[0, 100, 2, 100, 4, 100, 6, 100, 8, 100]\n"
     ]
    }
   ],
   "source": [
    "#if도 사용 가능하다\n",
    "data1 = []\n",
    "for i in range(10):\n",
    "    if i%2 == 0:\n",
    "        data1.append(i)\n",
    "print(data1)\n",
    "\n",
    "#위는 아래로 줄여서 쓸 수 있다\n",
    "data2 = [i for i in range(10) if i%2 == 0]\n",
    "print(data2)\n",
    "\n",
    "#if else도 넣을 수 있는데 if else는 맨 뒤에 들어가면 안 되서 앞으로 옮겨야 함\n",
    "#2의 배수면 i를 아니면 100을 list에 넣도록 함\n",
    "data2 = [i if i%2 == 0 else 100 for i in range(10)]\n",
    "print(data2)"
   ]
  },
  {
   "cell_type": "markdown",
   "metadata": {},
   "source": [
    "### Tuple"
   ]
  },
  {
   "cell_type": "code",
   "execution_count": 7,
   "metadata": {},
   "outputs": [
    {
     "name": "stdout",
     "output_type": "stream",
     "text": [
      "<class 'tuple'>\n",
      "2\n",
      "3\n",
      "38 21 53 62 19 53 53 "
     ]
    }
   ],
   "source": [
    "# Tuple은 list와 달리 내용을 변경 못 함 -> 내용 변경하는 append등의 method 사용불가. 정보를 구하는 method만 사용 가능 eg. index()등\n",
    "data1 = 38,21,53,62,19,53,53\n",
    "print(type(data1))\n",
    "print(data1.index(53)) #index(n)은 n값이 위치한 index(0부터 시작)를 return한다. 같은 값이 여러개면 앞에 값의 index를 return한다\n",
    "\n",
    "#count()는 매개변수 값의 개수를 나타 냄\n",
    "print(data1.count(53))\n",
    "\n",
    "#튜플 요소 출력\n",
    "for i in data1:\n",
    "    print(i, end=' ')"
   ]
  },
  {
   "cell_type": "markdown",
   "metadata": {},
   "source": [
    "### Tuple comprehension"
   ]
  },
  {
   "cell_type": "code",
   "execution_count": 10,
   "metadata": {},
   "outputs": [
    {
     "name": "stdout",
     "output_type": "stream",
     "text": [
      "(0, 2, 4, 6, 8)\n",
      "<generator object <genexpr> at 0x0000021652BC92E0>\n"
     ]
    }
   ],
   "source": [
    "data = tuple(i for i in range(10) if i%2 == 0)\n",
    "print(data)\n",
    "\n",
    "#tuple()을 쓰지 않으면 아래 처럼 generator object를 return한다 => 꼭 tuple을 써야 함\n",
    "data = (i for i in range(10) if i%2 == 0)\n",
    "print(data)"
   ]
  },
  {
   "cell_type": "code",
   "execution_count": 1,
   "metadata": {},
   "outputs": [
    {
     "name": "stdout",
     "output_type": "stream",
     "text": [
      "[1, 3, 4, 7]\n",
      "[1, 3, 4, 7]\n"
     ]
    }
   ],
   "source": [
    "# map 함수는 자료구조의 각 요소를 지정된 함수로 처리해 준다\n",
    "data = [1.2, 3.3, 4.5, 7.9]\n",
    "\n",
    "for i in range(len(data)):\n",
    "    data[i] = int(data[i])\n",
    "print(data)\n",
    "\n",
    "#data를 int()함수를 태워서 list에 넣는다\n",
    "data2 = list(map(int, data))\n",
    "print(data2)"
   ]
  },
  {
   "cell_type": "code",
   "execution_count": null,
   "metadata": {},
   "outputs": [],
   "source": [
    "data3 = input().split()\n",
    "print(data3)"
   ]
  },
  {
   "cell_type": "code",
   "execution_count": 2,
   "metadata": {},
   "outputs": [
    {
     "name": "stdout",
     "output_type": "stream",
     "text": [
      "300 400\n",
      "[300, 400]\n"
     ]
    }
   ],
   "source": [
    "#위 같은 코드를 map()을 사용하면 쉽게 변수로 구성 가능\n",
    "data4 = list(map(int, input().split()))\n",
    "print(data4)"
   ]
  },
  {
   "cell_type": "code",
   "execution_count": 5,
   "metadata": {},
   "outputs": [
    {
     "name": "stdout",
     "output_type": "stream",
     "text": [
      "300 400\n",
      "300 400\n"
     ]
    }
   ],
   "source": [
    "#아래와 같이 unpacking으로 받을 수도 있음 (리스트가 아니라 unpacking해서 값으로 받음)\n",
    "data5, data6 = list(map(int, input().split()))\n",
    "print(data5, data6)"
   ]
  },
  {
   "cell_type": "code",
   "execution_count": 8,
   "metadata": {},
   "outputs": [
    {
     "name": "stdout",
     "output_type": "stream",
     "text": [
      "[40, 20, 60, 80, 90]\n"
     ]
    }
   ],
   "source": [
    "#아래와 같이 응용도 가능\n",
    "def multi_ten(x):\n",
    "    return x * 10\n",
    "data = [4,2,6,8,9]\n",
    "print(list(map(multi_ten, data)))"
   ]
  },
  {
   "cell_type": "markdown",
   "metadata": {},
   "source": [
    "### Set"
   ]
  },
  {
   "cell_type": "code",
   "execution_count": 16,
   "metadata": {},
   "outputs": [
    {
     "name": "stdout",
     "output_type": "stream",
     "text": [
      "{10, 20, 30}\n",
      "<class 'set'>\n",
      "{40, 10, 50, 20, 60, 30}\n",
      "<class 'dict'>\n",
      "<class 'set'>\n"
     ]
    }
   ],
   "source": [
    "#set은 집합연산. {} 또는 set() 으로 만들 수 있다\n",
    "data1 = {10,20,30}\n",
    "print(data1)\n",
    "print(type(data1))\n",
    "data2 = set([10, 20, 40, 30, 60, 50])\n",
    "print(data2)\n",
    "\n",
    "#단! 비어있는 set을 구성할 시 {}를 쓰면 dict가 되므로 set()함수를 사용해서 만들어야 함\n",
    "data3 = {}\n",
    "print(type(data3))\n",
    "data4 = set()\n",
    "print(type(data4))"
   ]
  },
  {
   "cell_type": "code",
   "execution_count": 30,
   "metadata": {},
   "outputs": [
    {
     "name": "stdout",
     "output_type": "stream",
     "text": [
      "{1, 2, 3, 4, 5, 6}\n",
      "{1, 2, 3, 4, 5, 6}\n",
      "{3, 4}\n",
      "{3, 4}\n",
      "{1, 2}\n",
      "{1, 2}\n",
      "{1, 2, 5, 6}\n",
      "{1, 2, 5, 6}\n",
      "{1, 2, 5, 6}\n"
     ]
    }
   ],
   "source": [
    "# set 조작\n",
    "\n",
    "# 합집합 or 는 | 또는 union() 사용\n",
    "s1 = {1, 2, 3, 4}\n",
    "s2 = {3, 4, 5, 6}\n",
    "print(s1.union(s2))\n",
    "print(s1 | s2)\n",
    "\n",
    "# 교집합 and는 & 또는 intersection() \n",
    "print(s1.intersection(s2))\n",
    "print(s1 & s2)\n",
    "\n",
    "#차집합 - 또는 difference() 사용\n",
    "print(s1.difference(s2))\n",
    "print(s1 - s2)\n",
    "\n",
    "# 대칭차집합 exclusive or ^ 연산자 또는 symmetric_dijfference() 사용\n",
    "print(s1.symmetric_difference(s2))\n",
    "print(set.symmetric_difference(s1, s2))\n",
    "print(s1 ^ s2)"
   ]
  },
  {
   "cell_type": "code",
   "execution_count": 37,
   "metadata": {},
   "outputs": [
    {
     "name": "stdout",
     "output_type": "stream",
     "text": [
      "{1, 2, 3, 4, 7}\n",
      "{1, 2, 3, 4, 7, 8}\n"
     ]
    }
   ],
   "source": [
    "# set 할당\n",
    "# |, -, &, ^ 뒤에 =를 붙여서 사용 가능. |=는 update()와 동일\n",
    "s1 = {4, 3, 2, 1}\n",
    "#s1 |= 7 #이렇게 하면 에러 남u nsupported operand type(s) for |=: 'set' and 'int'\n",
    "s1 |= {7}\n",
    "print(s1)\n",
    "\n",
    "# s1.update(8) # 이러면 에러남'int' object is not iterable \n",
    "s1.update({8})\n",
    "print(s1)"
   ]
  },
  {
   "cell_type": "code",
   "execution_count": 45,
   "metadata": {},
   "outputs": [
    {
     "name": "stdout",
     "output_type": "stream",
     "text": [
      "True\n",
      "False\n",
      "{1, 2, 3, 100, 4}\n",
      "{1, 2, 3, 4}\n",
      "{1, 2, 3, 4}\n"
     ]
    }
   ],
   "source": [
    "# set 관련 추가\n",
    "# isdisjoint() 는 현재 set이 다른 set과 겹치지 않는지 확인해 준다\n",
    "data1 = {1, 2, 3, 4}\n",
    "print(data1.isdisjoint({5, 6, 7, 8}))\n",
    "print(data1.isdisjoint({5, 6, 7, 1}))\n",
    "\n",
    "#add()는 요소 추가시 사용\n",
    "data1.add(100)\n",
    "print(data1)\n",
    "\n",
    "#remove는 특정 요소 삭제시 사용\n",
    "data1.remove(100)\n",
    "print(data1)\n",
    "#data1.remove(100) #없는 요소 remove시도시 에러 발생\n",
    "\n",
    "#이럴땐 discard를 쓰면 에러 안 남\n",
    "data1.discard(100)\n",
    "print(data1)"
   ]
  },
  {
   "cell_type": "code",
   "execution_count": 50,
   "metadata": {},
   "outputs": [
    {
     "name": "stdout",
     "output_type": "stream",
     "text": [
      "True\n",
      "True\n",
      "False\n",
      "False\n"
     ]
    }
   ],
   "source": [
    "# 부분집합 상위잡합등 집합간 관계 표현 가능\n",
    "\n",
    "#<=는 왼쪽 셋이 오른쪽 셋의 부분집합인지 확인가능. issubset()으로 써도 됨\n",
    "print(data4 <={1,2,3,4})\n",
    "print(data4.issubset({1,2,3,4,5}))\n",
    "\n",
    "#>=는 왼쪽 셋이 오른쪽 셋의 부분집합인지 확인가능. issuperset()으로 써도 됨\n",
    "print(data4 >= {1,2,3})\n",
    "print(data4.issuperset({1,2,3}))"
   ]
  },
  {
   "cell_type": "code",
   "execution_count": 55,
   "metadata": {},
   "outputs": [
    {
     "name": "stdout",
     "output_type": "stream",
     "text": [
      "{'o', 'e', 'h', 'l'}\n",
      "{'o', 'h'}\n"
     ]
    }
   ],
   "source": [
    "#set comprehension예제\n",
    "\n",
    "# for 반복문과 if 조건문을 사용해서 set 생성 가능\n",
    "data5 = {i for i in 'hello'}\n",
    "print(data5)\n",
    "\n",
    "data6 = {i for i in 'hello' if i not in 'el'} # in 앞에는 is 가 생략되어 있다고 보면 편함\n",
    "print(data6)"
   ]
  },
  {
   "cell_type": "markdown",
   "metadata": {},
   "source": [
    "### Dictionary"
   ]
  },
  {
   "cell_type": "code",
   "execution_count": 3,
   "metadata": {},
   "outputs": [
    {
     "name": "stdout",
     "output_type": "stream",
     "text": [
      "{10: [40, 50], True: [22.2, 444, 56], 3.3: ['kim', 'choi']}\n",
      "[40, 50]\n",
      "[22.2, 444, 56]\n",
      "['kim', 'choi']\n"
     ]
    }
   ],
   "source": [
    "# 딕셔너리는 연관된 값(key, value)을 묶어서 저장하는 용도로 사용\n",
    "# key는 문자열, 정수, 실수, boolean도 사용 가능, 자료형을 섞어서도 사용 가능\n",
    "# value에는 list, tuple 등을 포함하여 모든 자료형을 사용할 수 있다\n",
    "data = {10:[40,50], True:[22.2,444,56], 3.3:['kim','choi']}\n",
    "print(data)\n",
    "print(data[10])\n",
    "print(data[True])\n",
    "print(data[3.3])"
   ]
  },
  {
   "cell_type": "code",
   "execution_count": 30,
   "metadata": {},
   "outputs": [
    {
     "name": "stdout",
     "output_type": "stream",
     "text": [
      "{'name': 'kim', 'age': 30}\n",
      "kim\n",
      "{'health': 100, 'name': 'kim'}\n",
      "{'age': 50}\n",
      "{'age': 50, 'weight': 80}\n",
      "{'one': 100, 'two': 200, 'three': 300}\n"
     ]
    },
    {
     "data": {
      "text/plain": [
       "{'one': 100, 'three': 300}"
      ]
     },
     "execution_count": 30,
     "metadata": {},
     "output_type": "execute_result"
    }
   ],
   "source": [
    "# dict()는 다음과 같이 키와 값을 연결하건, list tuple, dict로 dict를 만들 때 사용한다.\n",
    "data2 = dict(name='kim', age=30)\n",
    "print(data2)\n",
    "#print(data2[name]) #이러면 에러 남  name 'name' is not defined '' 붙여줘야 함\n",
    "print(data2['name'])\n",
    "\n",
    "#아래와 같이 zip()함수를 이용해서 아래와 같이 key끼리, value끼리 넣어서 만들 수 있음\n",
    "data3 = dict(zip(['health', 'name'], [100,'kim']))\n",
    "print(data3)\n",
    "\n",
    "#아래와 같이 value를 바꾸거나 key:value 추가 가능\n",
    "data4 = {'age':30}\n",
    "data4['age'] = 50\n",
    "print(data4)\n",
    "data4['weight'] = 80\n",
    "print(data4)\n",
    "\n",
    "#del(key)로 지울 수 있다\n",
    "ddata2 = {'one':100, 'two':200, 'three':300}\n",
    "print(ddata2)\n",
    "del ddata2['two']\n",
    "ddata2"
   ]
  },
  {
   "cell_type": "code",
   "execution_count": 13,
   "metadata": {},
   "outputs": [
    {
     "name": "stdout",
     "output_type": "stream",
     "text": [
      "{'age': 30, 'height': 180}\n",
      "{'age': 30, 'height': 180, 'info': None}\n"
     ]
    }
   ],
   "source": [
    "# dictionary 기본 값 할당 setdefault(key, def_value)  defaultvalue 안 넣으면 None으로 할당 됨\n",
    "data5 = {'age':30}\n",
    "data5.setdefault('height',180)\n",
    "print(data5)\n",
    "data5.setdefault('info')\n",
    "print(data5)"
   ]
  },
  {
   "cell_type": "code",
   "execution_count": 18,
   "metadata": {},
   "outputs": [
    {
     "name": "stdout",
     "output_type": "stream",
     "text": [
      "{'a': None, 'b': None, 'c': None, 'd': None}\n",
      "{'a': 100, 'b': 100, 'c': 100, 'd': 100}\n"
     ]
    }
   ],
   "source": [
    "# fromkeys(key)로도 dict를 생성할 수 있는데 이렇게 생성하면 default value는 None으로 들어감\n",
    "# fromkeys(key, value)로 생성하면 해당 value가 default value가 됨\n",
    "keys = ['a','b','c','d']\n",
    "data1 = dict.fromkeys(keys)\n",
    "print(data1)\n",
    "data2 = dict.fromkeys(keys, 100)\n",
    "print(data2)"
   ]
  },
  {
   "cell_type": "code",
   "execution_count": 29,
   "metadata": {},
   "outputs": [
    {
     "name": "stdout",
     "output_type": "stream",
     "text": [
      "True\n",
      "{'a': 10, 'b': 100}\n",
      "{'a': 10, 'b': 100}\n",
      "False\n",
      "{'a': 10, 'b': 20}\n",
      "{'a': 10, 'b': 20}\n",
      "{'a': {'name': 'kim'}, 'b': {'name': 'jeon'}}\n",
      "{'a': {'name': 'kim'}, 'b': {'name': 'jeon'}}\n",
      "{'a': {'name': 'jeong'}, 'b': {'name': 'jeon'}}\n",
      "{'a': {'name': 'jeong'}, 'b': {'name': 'jeon'}}\n",
      "{'a': {'name': 'park'}, 'b': {'name': 'jeon'}}\n",
      "{'a': {'name': 'jeong'}, 'b': {'name': 'jeon'}}\n"
     ]
    }
   ],
   "source": [
    "# dictionary를 =로 할당하면 같은 dictionary를 지정하게 된다.\n",
    "data1 = {'a':10, 'b':20}\n",
    "data2 = data1\n",
    "print(data1 is data2)\n",
    "data2['b'] = 100\n",
    "print(data1)\n",
    "print(data2)\n",
    "\n",
    "# 복사를 하려면 copy()써도 된다.\n",
    "data3 = {'a':10, 'b':20}\n",
    "data4 = data3.copy()\n",
    "print(data3 is data4)\n",
    "print(data3)\n",
    "print(data4)\n",
    "\n",
    "#근데 중첩 딕셔너리는 copy()대신에 deepcopy()를 써야 완전 복사가 된다.\n",
    "import copy\n",
    "data5 = {'a':{'name':'kim'}, 'b':{'name':'jeon'}}\n",
    "data6 = data5.copy()\n",
    "print(data5)\n",
    "print(data6)\n",
    "data6['a']['name'] = 'jeong'\n",
    "#제대로 copy가 안된걸 확인 가능 (그냥 =와 동일하게 동작 했음)\n",
    "print(data5)\n",
    "print(data6)\n",
    "\n",
    "#여기서 deepcopy사용하니 정상 copy됨\n",
    "data6 = copy.deepcopy(data5)\n",
    "data5['a']['name'] = 'park'\n",
    "print(data5)\n",
    "print(data6)"
   ]
  },
  {
   "cell_type": "markdown",
   "metadata": {},
   "source": [
    "### Dictionary Comprehension"
   ]
  },
  {
   "cell_type": "code",
   "execution_count": 37,
   "metadata": {},
   "outputs": [
    {
     "name": "stdout",
     "output_type": "stream",
     "text": [
      "{'a': None, 'b': None, 'c': None, 'd': None}\n",
      "{'a': 100, 'b': 100, 'c': 100, 'd': 100}\n",
      "{'kim': 0, 'choi': 0, 'lee': 0}\n",
      "['have', 'a', 'good', 'day']\n",
      "{0: 'have', 1: 'a', 2: 'good', 3: 'day'}\n"
     ]
    }
   ],
   "source": [
    "#이런식으로 for문으로 list에서 item가져오면서 dict생성 가능\n",
    "keys = ['a','b','c','d']\n",
    "data1 = {k:v for k,v in dict.fromkeys(keys).items()}\n",
    "print(data1)\n",
    "\n",
    "#이렇게 key만 가져와서 value는 지정된 값을 넣을 수 도 있음\n",
    "data2 = {k:100 for k in dict.fromkeys(keys).keys()}\n",
    "print(data2)\n",
    "\n",
    "data3 = {'name':{'kim','lee','choi'}}\n",
    "data4 = {v:0 for value in data3.values() for v in value}\n",
    "print(data4)\n",
    "\n",
    "words = 'have a good day'.split()\n",
    "print(words)\n",
    "#이런식으로 dict생성도 가능\n",
    "ddata = {i:w for i, w in enumerate(words)}\n",
    "print(ddata)"
   ]
  },
  {
   "cell_type": "code",
   "execution_count": 39,
   "metadata": {},
   "outputs": [
    {
     "ename": "RuntimeError",
     "evalue": "dictionary changed size during iteration",
     "output_type": "error",
     "traceback": [
      "\u001b[1;31m---------------------------------------------------------------------------\u001b[0m",
      "\u001b[1;31mRuntimeError\u001b[0m                              Traceback (most recent call last)",
      "\u001b[1;32m<ipython-input-39-d76963ebaf29>\u001b[0m in \u001b[0;36m<module>\u001b[1;34m\u001b[0m\n\u001b[0;32m      1\u001b[0m \u001b[1;31m# dictionary는 for 반복문에서 key:value 쌍을 삭제하면 안된다. (중간에 index가 틀어질 수 있으므로 막음)\u001b[0m\u001b[1;33m\u001b[0m\u001b[1;33m\u001b[0m\u001b[1;33m\u001b[0m\u001b[0m\n\u001b[0;32m      2\u001b[0m \u001b[0mdata5\u001b[0m \u001b[1;33m=\u001b[0m \u001b[1;33m{\u001b[0m\u001b[1;34m'one'\u001b[0m\u001b[1;33m:\u001b[0m\u001b[1;36m10\u001b[0m\u001b[1;33m,\u001b[0m \u001b[1;34m'two'\u001b[0m\u001b[1;33m:\u001b[0m\u001b[1;36m20\u001b[0m\u001b[1;33m,\u001b[0m \u001b[1;34m'three'\u001b[0m\u001b[1;33m:\u001b[0m\u001b[1;36m30\u001b[0m\u001b[1;33m,\u001b[0m \u001b[1;34m'four'\u001b[0m\u001b[1;33m:\u001b[0m\u001b[1;36m40\u001b[0m\u001b[1;33m}\u001b[0m\u001b[1;33m\u001b[0m\u001b[1;33m\u001b[0m\u001b[0m\n\u001b[1;32m----> 3\u001b[1;33m \u001b[1;32mfor\u001b[0m \u001b[0mk\u001b[0m\u001b[1;33m,\u001b[0m \u001b[0mv\u001b[0m \u001b[1;32min\u001b[0m \u001b[0mdata5\u001b[0m\u001b[1;33m.\u001b[0m\u001b[0mitems\u001b[0m\u001b[1;33m(\u001b[0m\u001b[1;33m)\u001b[0m\u001b[1;33m:\u001b[0m\u001b[1;33m\u001b[0m\u001b[1;33m\u001b[0m\u001b[0m\n\u001b[0m\u001b[0;32m      4\u001b[0m     \u001b[1;32mif\u001b[0m \u001b[0mv\u001b[0m \u001b[1;33m==\u001b[0m \u001b[1;36m20\u001b[0m\u001b[1;33m:\u001b[0m\u001b[1;33m\u001b[0m\u001b[1;33m\u001b[0m\u001b[0m\n\u001b[0;32m      5\u001b[0m         \u001b[1;32mdel\u001b[0m \u001b[0mdata5\u001b[0m\u001b[1;33m[\u001b[0m\u001b[0mk\u001b[0m\u001b[1;33m]\u001b[0m\u001b[1;33m\u001b[0m\u001b[1;33m\u001b[0m\u001b[0m\n",
      "\u001b[1;31mRuntimeError\u001b[0m: dictionary changed size during iteration"
     ]
    }
   ],
   "source": [
    "# dictionary는 for 반복문에서 key:value 쌍을 삭제하면 안된다. (중간에 index가 틀어질 수 있으므로 막음)\n",
    "data5 = {'one':10, 'two':20, 'three':30, 'four':40}\n",
    "for k, v in data5.items():\n",
    "    if v == 20:\n",
    "        del data5[k]"
   ]
  },
  {
   "cell_type": "code",
   "execution_count": 40,
   "metadata": {},
   "outputs": [
    {
     "name": "stdout",
     "output_type": "stream",
     "text": [
      "{'one': 10, 'three': 30, 'four': 40}\n"
     ]
    }
   ],
   "source": [
    "#위는 아래와 같이 작성하면 구현 가능 하다\n",
    "data5 = {k:v for k,v in data5.items() if v != 20}\n",
    "print(data5)"
   ]
  }
 ],
 "metadata": {
  "kernelspec": {
   "display_name": "Python 3",
   "language": "python",
   "name": "python3"
  },
  "language_info": {
   "codemirror_mode": {
    "name": "ipython",
    "version": 3
   },
   "file_extension": ".py",
   "mimetype": "text/x-python",
   "name": "python",
   "nbconvert_exporter": "python",
   "pygments_lexer": "ipython3",
   "version": "3.8.5"
  }
 },
 "nbformat": 4,
 "nbformat_minor": 4
}
